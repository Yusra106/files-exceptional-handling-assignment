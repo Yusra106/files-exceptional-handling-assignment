{
  "nbformat": 4,
  "nbformat_minor": 0,
  "metadata": {
    "colab": {
      "provenance": []
    },
    "kernelspec": {
      "name": "python3",
      "display_name": "Python 3"
    },
    "language_info": {
      "name": "python"
    }
  },
  "cells": [
    {
      "cell_type": "markdown",
      "source": [
        "# **FILES, EXCEPTIONAL HANDLING, LOGGING AND MEMORY MANAGEMENT**"
      ],
      "metadata": {
        "id": "VoxmrgNl1V0y"
      }
    },
    {
      "cell_type": "markdown",
      "source": [
        "# **THEORY QUESTIONS**"
      ],
      "metadata": {
        "id": "y8yLvSTH1KGV"
      }
    },
    {
      "cell_type": "markdown",
      "source": [
        "Ques1. What is the difference between interpreted and compiled languages ?"
      ],
      "metadata": {
        "id": "vmVFpd-W1SlC"
      }
    },
    {
      "cell_type": "markdown",
      "source": [
        "The key difference between interpreted and compiled languages lies in how they process code: interpreted languages execute code line by line, while compiled languages translate the entire code into machine code before execution."
      ],
      "metadata": {
        "id": "-pAh3Sy210Y7"
      }
    },
    {
      "cell_type": "markdown",
      "source": [
        "Ques2. What is exception handling in Python ?"
      ],
      "metadata": {
        "id": "fA_FW6AW103z"
      }
    },
    {
      "cell_type": "markdown",
      "source": [
        "Exception handling in Python is a mechanism to gracefully manage errors that may arise during the execution of a program. When an error, known as an exception, occurs, it can disrupt the normal flow of the program. Exception handling allows the program to detect these errors, take appropriate actions, and continue execution instead of crashing."
      ],
      "metadata": {
        "id": "vgjOh2Mj17ms"
      }
    },
    {
      "cell_type": "markdown",
      "source": [
        "Ques3. What is the purpose of the finally block in exception handling ?"
      ],
      "metadata": {
        "id": "IE_ZUh6R18Tr"
      }
    },
    {
      "cell_type": "markdown",
      "source": [
        "The purpose of the finally block in exception handling is to ensure that a specific block of code, typically resource cleanup, is always executed, regardless of whether an exception is thrown within the try block or not, or even if an exception is thrown and caught in a catch block."
      ],
      "metadata": {
        "id": "4HhxDOxJ2HID"
      }
    },
    {
      "cell_type": "markdown",
      "source": [
        "Ques4. What is logging in Python ?"
      ],
      "metadata": {
        "id": "oOkNPOdc2ICa"
      }
    },
    {
      "cell_type": "markdown",
      "source": [
        "Logging in Python is a built-in module that provides a flexible framework for emitting log messages from Python programs. It allows developers to track events, debug issues, and monitor the health of applications by recording information about the program's execution. This information can include errors, warnings, and other events that occur during the program's runtime."
      ],
      "metadata": {
        "id": "onbvREAU2N6b"
      }
    },
    {
      "cell_type": "markdown",
      "source": [
        "Ques5.What is the significance of the __del__ method in Python ?"
      ],
      "metadata": {
        "id": "-xCOrxP52OYi"
      }
    },
    {
      "cell_type": "markdown",
      "source": [
        "The del statement in Python serves to remove references to objects. It can delete variables, items from lists and dictionaries, or even slices of lists. It's important to note that del doesn't necessarily deallocate the memory occupied by the object unless it was the last reference to that object. Python's garbage collector handles memory deallocation when an object is no longer reachable."
      ],
      "metadata": {
        "id": "uIuoYwij2TTb"
      }
    },
    {
      "cell_type": "code",
      "source": [
        "my_list = [1, 2, 3, 4, 5]\n",
        "del my_list[2]  # Removes the element at index 2 (value 3)\n",
        "print(my_list)  # Output: [1, 2, 4, 5]\n",
        "\n",
        "my_dict = {'a': 1, 'b': 2, 'c': 3}\n",
        "del my_dict['b']  # Removes the key 'b' and its value\n",
        "print(my_dict)  # Output: {'a': 1, 'c': 3}\n",
        "\n",
        "x = 10\n",
        "del x  # Removes the variable x\n",
        "# print(x)  # This would raise a NameError since x is no longer defined"
      ],
      "metadata": {
        "colab": {
          "base_uri": "https://localhost:8080/"
        },
        "id": "y9wMGJOa4yvF",
        "outputId": "971db794-bdae-4481-a238-26a740c0c788"
      },
      "execution_count": null,
      "outputs": [
        {
          "output_type": "stream",
          "name": "stdout",
          "text": [
            "[1, 2, 4, 5]\n",
            "{'a': 1, 'c': 3}\n"
          ]
        }
      ]
    },
    {
      "cell_type": "markdown",
      "source": [
        "When dealing with user-defined objects, the del statement triggers the __del__ method (if defined) of the object's class before removing the reference. This allows for cleanup actions like closing files or releasing resources. However, relying on __del__ for critical cleanup is discouraged because it's not guaranteed to be called in all circumstances."
      ],
      "metadata": {
        "id": "rkLBY2C35FKD"
      }
    },
    {
      "cell_type": "code",
      "source": [
        "class MyClass:\n",
        "    def __init__(self, name):\n",
        "        self.name = name\n",
        "        print(f\"Object {self.name} created\")\n",
        "\n",
        "    def __del__(self):\n",
        "        print(f\"Object {self.name} deleted\")\n",
        "\n",
        "obj1 = MyClass(\"A\")\n",
        "obj2 = obj1\n",
        "del obj1\n",
        "print(\"obj1 deleted\")\n",
        "del obj2\n",
        "print(\"obj2 deleted\")"
      ],
      "metadata": {
        "colab": {
          "base_uri": "https://localhost:8080/"
        },
        "id": "Zn8CtKsT5GNL",
        "outputId": "5825b7c2-97f5-4a6d-a3d6-17e5a57d5fe4"
      },
      "execution_count": null,
      "outputs": [
        {
          "output_type": "stream",
          "name": "stdout",
          "text": [
            "Object A created\n",
            "obj1 deleted\n",
            "Object A deleted\n",
            "obj2 deleted\n"
          ]
        }
      ]
    },
    {
      "cell_type": "markdown",
      "source": [
        "Ques6. What is the difference between import and from ... import in Python ?"
      ],
      "metadata": {
        "id": "f2JzApev2T-b"
      }
    },
    {
      "cell_type": "markdown",
      "source": [
        "The import and from ... import statements in Python serve to incorporate external modules or specific objects from those modules into the current scope. However, they differ in how they make these elements accessible:\n",
        "\n",
        "**import module**: This statement imports the entire module, making it available under the name module. To access objects within the module, one must use the dot notation, such as module.object."
      ],
      "metadata": {
        "id": "gCZQc19W2bgD"
      }
    },
    {
      "cell_type": "code",
      "source": [
        "import math\n",
        "x = math.sqrt(25)  # Accessing the sqrt function using the module name\n",
        "print(x) # Output: 5.0"
      ],
      "metadata": {
        "colab": {
          "base_uri": "https://localhost:8080/"
        },
        "id": "1L6fgPmb25zK",
        "outputId": "93300484-9d55-4697-d02a-11613956f575"
      },
      "execution_count": null,
      "outputs": [
        {
          "output_type": "stream",
          "name": "stdout",
          "text": [
            "5.0\n"
          ]
        }
      ]
    },
    {
      "cell_type": "markdown",
      "source": [
        "**from module import object(s)**: This statement imports specific objects (e.g., functions, classes, variables) directly into the current namespace. These objects can then be used without the need for dot notation.\n"
      ],
      "metadata": {
        "id": "M5GYT65r2-Pr"
      }
    },
    {
      "cell_type": "code",
      "source": [
        "from math import sqrt, pi\n",
        "x = sqrt(25)  # Accessing the sqrt function directly\n",
        "print(x) # Output: 5.0\n",
        "print(pi) # Output: 3.141592653589793"
      ],
      "metadata": {
        "colab": {
          "base_uri": "https://localhost:8080/"
        },
        "id": "Wk0Pvn813D4r",
        "outputId": "7f87b3e4-411e-4f2b-9b9d-87e11eaabde3"
      },
      "execution_count": null,
      "outputs": [
        {
          "output_type": "stream",
          "name": "stdout",
          "text": [
            "5.0\n",
            "3.141592653589793\n"
          ]
        }
      ]
    },
    {
      "cell_type": "markdown",
      "source": [
        "Ques7. How can you handle multiple exceptions in Python ?"
      ],
      "metadata": {
        "id": "mxl6P8G72cva"
      }
    },
    {
      "cell_type": "markdown",
      "source": [
        "Python offers several ways to handle multiple exceptions that might occur within a try block.\n",
        "\n",
        "**Multiple except blocks**: This approach allows handling different exception types separately. Each except block specifies a particular exception type and the code to execute if that exception occurs."
      ],
      "metadata": {
        "id": "4iJ5Y0z85SKU"
      }
    },
    {
      "cell_type": "code",
      "source": [
        "    try:\n",
        "        # Code that might raise exceptions\n",
        "        x = int(input(\"Enter a number: \"))\n",
        "        result = 10 / x\n",
        "        print(result)\n",
        "    except ZeroDivisionError:\n",
        "        print(\"Cannot divide by zero.\")\n",
        "    except ValueError:\n",
        "        print(\"Invalid input. Please enter a number.\")"
      ],
      "metadata": {
        "colab": {
          "base_uri": "https://localhost:8080/"
        },
        "id": "WBK5QSHR5g0j",
        "outputId": "9f2db00e-152e-44db-c288-613eb064162d"
      },
      "execution_count": null,
      "outputs": [
        {
          "output_type": "stream",
          "name": "stdout",
          "text": [
            "Enter a number: 0\n",
            "Cannot divide by zero.\n"
          ]
        }
      ]
    },
    {
      "cell_type": "markdown",
      "source": [
        "**Single except block with a tuple of exceptions**: This method handles multiple exception types with the same code block."
      ],
      "metadata": {
        "id": "WcTIj4Kf5dJT"
      }
    },
    {
      "cell_type": "code",
      "source": [
        "    try:\n",
        "        # Code that might raise exceptions\n",
        "        x = int(input())\n",
        "        my_list = [1, 2, 3]\n",
        "        print(my_list[x])\n",
        "    except (ValueError, IndexError) as e:\n",
        "        print(f\"An error occurred: {e}\")"
      ],
      "metadata": {
        "colab": {
          "base_uri": "https://localhost:8080/"
        },
        "id": "BMIv3_M55-jz",
        "outputId": "873eefd3-6f32-4489-85be-19b6c94b8bdf"
      },
      "execution_count": null,
      "outputs": [
        {
          "output_type": "stream",
          "name": "stdout",
          "text": [
            "123\n",
            "An error occurred: list index out of range\n"
          ]
        }
      ]
    },
    {
      "cell_type": "markdown",
      "source": [
        "**Nested try-except blocks**: For more complex scenarios, you can nest try-except blocks. This allows handling specific exceptions within a broader exception handling context."
      ],
      "metadata": {
        "id": "mxRsOl4Y6LYc"
      }
    },
    {
      "cell_type": "code",
      "source": [
        "    try:\n",
        "        # Outer try block\n",
        "        try:\n",
        "            # Inner try block\n",
        "            result = 10 / int(input(\"Enter a number: \"))\n",
        "        except ValueError:\n",
        "            print(\"Invalid input in inner block.\")\n",
        "        else:\n",
        "             print(result)\n",
        "    except ZeroDivisionError:\n",
        "        print(\"Cannot divide by zero in outer block.\")"
      ],
      "metadata": {
        "colab": {
          "base_uri": "https://localhost:8080/"
        },
        "id": "0XLy7a3P6Q5T",
        "outputId": "b7ca281f-422c-421f-e4e0-482ac13f0fdb"
      },
      "execution_count": null,
      "outputs": [
        {
          "output_type": "stream",
          "name": "stdout",
          "text": [
            "Enter a number: 100\n",
            "0.1\n"
          ]
        }
      ]
    },
    {
      "cell_type": "markdown",
      "source": [
        "**ExceptionGroup**: This feature allows raising and handling multiple exceptions simultaneously. It is particularly useful in concurrent programming."
      ],
      "metadata": {
        "id": "g0kMuXbK6bki"
      }
    },
    {
      "cell_type": "code",
      "source": [
        "    def f():\n",
        "        raise ExceptionGroup(\"Group1\", [ValueError(1), TypeError(2)])\n",
        "\n",
        "    try:\n",
        "        f()\n",
        "    except ExceptionGroup as egroup:\n",
        "        for exc in egroup.exceptions:\n",
        "            print(exc)"
      ],
      "metadata": {
        "colab": {
          "base_uri": "https://localhost:8080/"
        },
        "id": "uhwv_bc06nB8",
        "outputId": "0ad43a46-0ea8-46e0-e15b-21d8ba33e4a8"
      },
      "execution_count": null,
      "outputs": [
        {
          "output_type": "stream",
          "name": "stdout",
          "text": [
            "1\n",
            "2\n"
          ]
        }
      ]
    },
    {
      "cell_type": "markdown",
      "source": [
        "These methods provide flexibility in handling different error scenarios, making your code more robust and reliable."
      ],
      "metadata": {
        "id": "SeCPH3rS61-L"
      }
    },
    {
      "cell_type": "markdown",
      "source": [
        "Que8. What is the purpose of the with statement when handling files in Python ?"
      ],
      "metadata": {
        "id": "CEc8NE0S63Gr"
      }
    },
    {
      "cell_type": "markdown",
      "source": [
        "The with statement in Python provides a way to ensure that resources, such as files, are properly managed. When dealing with files, it guarantees that the file is automatically closed after the block of code within the with statement is executed, even if exceptions occur. This automatic closing prevents resource leaks and ensures data integrity."
      ],
      "metadata": {
        "id": "SYgsyZBd7Bq8"
      }
    },
    {
      "cell_type": "code",
      "source": [
        "#The basic syntax for using the with statement with files is:\n",
        "with open('filename.txt', 'r') as file:\n",
        "    # Perform operations on the file\n",
        "    content = file.read()\n",
        "    # ... other operations ...\n",
        "# File is automatically closed here"
      ],
      "metadata": {
        "colab": {
          "base_uri": "https://localhost:8080/",
          "height": 211
        },
        "id": "iihMaCQV7RAs",
        "outputId": "00061afd-5a0d-4e7e-eef6-62318cbddd30"
      },
      "execution_count": null,
      "outputs": [
        {
          "output_type": "error",
          "ename": "FileNotFoundError",
          "evalue": "[Errno 2] No such file or directory: 'filename.txt'",
          "traceback": [
            "\u001b[0;31m---------------------------------------------------------------------------\u001b[0m",
            "\u001b[0;31mFileNotFoundError\u001b[0m                         Traceback (most recent call last)",
            "\u001b[0;32m<ipython-input-13-4dac5fa52666>\u001b[0m in \u001b[0;36m<cell line: 0>\u001b[0;34m()\u001b[0m\n\u001b[1;32m      1\u001b[0m \u001b[0;31m#The basic syntax for using the with statement with files is:\u001b[0m\u001b[0;34m\u001b[0m\u001b[0;34m\u001b[0m\u001b[0m\n\u001b[0;32m----> 2\u001b[0;31m \u001b[0;32mwith\u001b[0m \u001b[0mopen\u001b[0m\u001b[0;34m(\u001b[0m\u001b[0;34m'filename.txt'\u001b[0m\u001b[0;34m,\u001b[0m \u001b[0;34m'r'\u001b[0m\u001b[0;34m)\u001b[0m \u001b[0;32mas\u001b[0m \u001b[0mfile\u001b[0m\u001b[0;34m:\u001b[0m\u001b[0;34m\u001b[0m\u001b[0;34m\u001b[0m\u001b[0m\n\u001b[0m\u001b[1;32m      3\u001b[0m     \u001b[0;31m# Perform operations on the file\u001b[0m\u001b[0;34m\u001b[0m\u001b[0;34m\u001b[0m\u001b[0m\n\u001b[1;32m      4\u001b[0m     \u001b[0mcontent\u001b[0m \u001b[0;34m=\u001b[0m \u001b[0mfile\u001b[0m\u001b[0;34m.\u001b[0m\u001b[0mread\u001b[0m\u001b[0;34m(\u001b[0m\u001b[0;34m)\u001b[0m\u001b[0;34m\u001b[0m\u001b[0;34m\u001b[0m\u001b[0m\n\u001b[1;32m      5\u001b[0m     \u001b[0;31m# ... other operations ...\u001b[0m\u001b[0;34m\u001b[0m\u001b[0;34m\u001b[0m\u001b[0m\n",
            "\u001b[0;31mFileNotFoundError\u001b[0m: [Errno 2] No such file or directory: 'filename.txt'"
          ]
        }
      ]
    },
    {
      "cell_type": "markdown",
      "source": [
        "Ques9. What is the difference between multithreading and multiprocessing ?"
      ],
      "metadata": {
        "id": "jd2Xae027abl"
      }
    },
    {
      "cell_type": "markdown",
      "source": [
        "Multithreading involves multiple threads executing concurrently within a single process, sharing the same memory space, while multiprocessing involves multiple processes, each with its own memory space, running potentially on different CPU cores.\n"
      ],
      "metadata": {
        "id": "zi8omqcM7iEM"
      }
    },
    {
      "cell_type": "markdown",
      "source": [
        "![file exception.png](data:image/png;base64,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)"
      ],
      "metadata": {
        "id": "lzo47MT57ue7"
      }
    },
    {
      "cell_type": "markdown",
      "source": [
        "Ques10. What are the advantages of using logging in a program ?"
      ],
      "metadata": {
        "id": "v3WfJ2Pe8iWc"
      }
    },
    {
      "cell_type": "markdown",
      "source": [
        "Logging in programming offers several advantages, primarily aiding in debugging, performance analysis, and monitoring by providing a record of a program's activities, including errors, warnings, and events."
      ],
      "metadata": {
        "id": "SNElyd4n8nuc"
      }
    },
    {
      "cell_type": "markdown",
      "source": [
        "Que11. What is memory management in Python ?"
      ],
      "metadata": {
        "id": "YREdTbhD8A4M"
      }
    },
    {
      "cell_type": "markdown",
      "source": [
        "Memory management in Python involves the allocation and deallocation of memory resources for objects. Python employs a private heap to store objects and data structures. The Python memory manager handles this private heap, utilizing mechanisms like reference counting and garbage collection.\n",
        "\n",
        "Reference counting tracks the number of references to an object; when the count drops to zero, the memory is reclaimed. Garbage collection identifies and reclaims memory occupied by objects no longer in use, preventing memory leaks. Python's memory management system is designed to be automatic, simplifying development by abstracting the complexities of memory operations, allowing programmers to focus on coding rather than manual memory management."
      ],
      "metadata": {
        "id": "tHudarrg8PKs"
      }
    },
    {
      "cell_type": "markdown",
      "source": [
        "Ques12. What are the basic steps involved in exception handling in Python ?"
      ],
      "metadata": {
        "id": "0RqJLa798bg8"
      }
    },
    {
      "cell_type": "markdown",
      "source": [
        "Exception handling in Python involves a structured approach to manage errors that may arise during the execution of a program. The basic steps are outlined below:"
      ],
      "metadata": {
        "id": "Xtyubjwc811c"
      }
    },
    {
      "cell_type": "markdown",
      "source": [
        "**Try Block**: Enclose the code that might raise an exception within a try block. This block monitors the code for potential errors."
      ],
      "metadata": {
        "id": "ESYaH4rS9FzT"
      }
    },
    {
      "cell_type": "code",
      "source": [
        "    try:\n",
        "        # Code that may raise an exception\n",
        "        result = 10 / 0\n",
        "    except ZeroDivisionError:\n",
        "        # Handle the exception\n",
        "        print(\"Cannot divide by zero.\")"
      ],
      "metadata": {
        "colab": {
          "base_uri": "https://localhost:8080/"
        },
        "id": "HVVmr1Pa9Jgb",
        "outputId": "3f802c50-3c85-4ed5-bfa9-7b5bcc161ea3"
      },
      "execution_count": null,
      "outputs": [
        {
          "output_type": "stream",
          "name": "stdout",
          "text": [
            "Cannot divide by zero.\n"
          ]
        }
      ]
    },
    {
      "cell_type": "markdown",
      "source": [
        "**Except Block**:\n",
        "If an exception occurs within the try block, the program flow immediately jumps to the except block. This block specifies how to handle a particular type of exception. Multiple except blocks can be used to handle different exception types.\n",
        "\n",
        "**Else Block (Optional)**:\n",
        "An else block can be added after the except block. The code within the else block executes only if no exceptions were raised in the try block.\n",
        "\n",
        "**Finally Block (Optional)**:\n",
        "The finally block contains code that will always be executed, regardless of whether an exception was raised or not. This is often used for cleanup actions, such as closing files or releasing resources.\n",
        "\n",
        "**Raise**:\n",
        "The raise keyword is used to explicitly raise an exception. This is useful for signaling errors or exceptional conditions that the program detects."
      ],
      "metadata": {
        "id": "9XDOdiw29MhL"
      }
    },
    {
      "cell_type": "code",
      "source": [
        "def process_data(data):\n",
        "    if not isinstance(data, list):\n",
        "        raise TypeError(\"Data must be a list\")\n",
        "    #rest of the code"
      ],
      "metadata": {
        "id": "1NV7qlUl9fOc"
      },
      "execution_count": null,
      "outputs": []
    },
    {
      "cell_type": "markdown",
      "source": [
        "Ques13. Why is memory management important in Python ?"
      ],
      "metadata": {
        "id": "0vjHlFYT9jFL"
      }
    },
    {
      "cell_type": "markdown",
      "source": [
        "Memory management is crucial in Python for several reasons:\n",
        "\n",
        "**Efficiency**:\n",
        "Efficient memory management ensures that programs utilize memory effectively, preventing wastage and optimizing performance. This leads to faster processing speeds and reduces the demand on system resources.\n",
        "\n",
        "**Stability**:\n",
        "Proper memory management helps mitigate the risk of crashes and errors caused by memory leaks or corruption. By allocating and deallocating memory appropriately, it prevents programs from exceeding their memory limits or accessing unauthorized memory regions.\n",
        "\n",
        "**Scalability**:\n",
        "Effective memory management is essential for building scalable applications that can handle large datasets and complex operations. It allows programs to manage memory dynamically, adapting to changing resource requirements and ensuring smooth operation even under heavy loads.\n",
        "\n",
        "**Resource Optimization**:\n",
        "By minimizing memory usage, efficient memory management contributes to overall resource optimization. This is particularly important in environments with limited resources, such as embedded systems or mobile devices, where memory constraints are a major concern.\n",
        "\n",
        "**Preventing Memory Leaks**:\n",
        "Python's automatic memory management, including garbage collection, helps prevent memory leaks. Memory leaks occur when programs fail to release allocated memory, leading to a gradual depletion of available resources. Proper memory management ensures that unused memory is reclaimed and made available for future use.\n",
        "\n",
        "**Faster Processing**:\n",
        "Efficient memory management leads to faster processing and less need for resources, namely random access memory (RAM) usage. More available RAM would generally mean more room for cache, which will help speed up disk access.\n",
        "\n",
        "**Encapsulation**:\n",
        "The private heap ensures that memory management is separate from the main program logic, making the programming experience simpler and cleaner."
      ],
      "metadata": {
        "id": "sCddHt-8-lfz"
      }
    },
    {
      "cell_type": "markdown",
      "source": [
        "Que14. What is the role of try and except in exception handling ?"
      ],
      "metadata": {
        "id": "wgOQFSjq_Ois"
      }
    },
    {
      "cell_type": "markdown",
      "source": [
        "In exception handling, the try block contains code that might raise an error, and the except block handles those errors (exceptions) gracefully, preventing the program from crashing and allowing it to continue execution.\n",
        "\n",
        "**try block**:\n",
        "This block contains the code that you want to monitor for potential errors or exceptions.\n",
        "If an exception occurs within the try block, the program execution jumps to the corresponding except block.\n",
        "\n",
        "**except block**:\n",
        "This block contains the code that will be executed if an exception of the specified type occurs within the try block.\n",
        "You can have multiple except blocks to handle different types of exceptions.\n",
        "If no exception occurs in the try block, the except block is skipped."
      ],
      "metadata": {
        "id": "uihLOc8K_qpW"
      }
    },
    {
      "cell_type": "code",
      "source": [
        "try:\n",
        "    # Code that might raise an exception\n",
        "    result = 10 / 0  # This will raise a ZeroDivisionError\n",
        "except ZeroDivisionError:\n",
        "    # Code to handle the exception\n",
        "    print(\"Error: Division by zero\")\n",
        "except Exception as e:\n",
        "    # Handle other exceptions\n",
        "    print(f\"An unexpected error occurred: {e}\")"
      ],
      "metadata": {
        "colab": {
          "base_uri": "https://localhost:8080/"
        },
        "id": "MxIbXJgY_ziW",
        "outputId": "da1f4af5-670a-4617-e2cb-462808a9bb44"
      },
      "execution_count": null,
      "outputs": [
        {
          "output_type": "stream",
          "name": "stdout",
          "text": [
            "Error: Division by zero\n"
          ]
        }
      ]
    },
    {
      "cell_type": "markdown",
      "source": [
        "Ques15. How does Python's garbage collection system work ?"
      ],
      "metadata": {
        "id": "I9xP3PgA_3os"
      }
    },
    {
      "cell_type": "markdown",
      "source": [
        "Python's garbage collection system automatically manages memory by reclaiming memory occupied by objects that are no longer referenced, primarily using reference counting and a cyclic garbage collector to handle circular references.\n",
        "\n",
        "**Reference Counting**:\n",
        "Python keeps track of how many variables are pointing to each object (its reference count). When an object's reference count reaches zero, meaning no variables are pointing to it, the object is considered garbage and the memory it occupies is freed.\n",
        "\n",
        "**Cyclic Garbage Collection**:\n",
        "Reference counting alone can't handle circular references (where two or more objects reference each other, preventing their garbage collection). Python's cyclic garbage collector identifies and breaks these cycles, ensuring that memory is freed even in such cases.\n",
        "\n",
        "**Automatic and Periodic**:\n",
        "The garbage collector runs automatically and periodically, rather than requiring manual intervention from the programmer.\n",
        "\n",
        "**Generations**:\n",
        "The garbage collector uses a generational approach, dividing objects into generations based on their age (younger objects are collected more frequently). This optimizes performance by focusing on the objects that are most likely to be garbage.\n",
        "\n",
        "**Stop-the-world**:\n",
        "Python's garbage collection is \"stop-the-world\", meaning the program must pause while the garbage collector is running."
      ],
      "metadata": {
        "id": "V_-tP9eoALS0"
      }
    },
    {
      "cell_type": "markdown",
      "source": [
        "Ques16. What is the purpose of the else block in exception handling ?"
      ],
      "metadata": {
        "id": "DXsE-4FjAbAU"
      }
    },
    {
      "cell_type": "markdown",
      "source": [
        "The else block in Python's exception handling is executed only if the try block completes successfully, without raising any exceptions. It provides a way to separate the code that might raise an exception from the code that should only run if no exceptions occurred. This improves code clarity and avoids accidentally catching exceptions that were not intended to be handled by the try block.\n",
        "For example:"
      ],
      "metadata": {
        "id": "KPFC2zd7Al3c"
      }
    },
    {
      "cell_type": "code",
      "source": [
        "try:\n",
        "    result = 10 / 2\n",
        "except ZeroDivisionError:\n",
        "    print(\"Cannot divide by zero\")\n",
        "else:\n",
        "    print(\"Division successful, result:\", result)"
      ],
      "metadata": {
        "colab": {
          "base_uri": "https://localhost:8080/"
        },
        "id": "ah5mRZ-6A2RU",
        "outputId": "bf5e4fe6-0930-461c-8ded-fc999eb4edcf"
      },
      "execution_count": null,
      "outputs": [
        {
          "output_type": "stream",
          "name": "stdout",
          "text": [
            "Division successful, result: 5.0\n"
          ]
        }
      ]
    },
    {
      "cell_type": "markdown",
      "source": [
        "In this case, the else block will execute and print \"Division successful, result: 5.0\" because no exception is raised in the try block. However, if the try block were to attempt division by zero, the except block would execute instead, and the else block would be skipped."
      ],
      "metadata": {
        "id": "pAqHzF2BA4_8"
      }
    },
    {
      "cell_type": "markdown",
      "source": [
        "Ques17. What are the common logging levels in Python ?"
      ],
      "metadata": {
        "id": "WzAvGWNbA8Dk"
      }
    },
    {
      "cell_type": "markdown",
      "source": [
        "Python's logging module defines five standard logging levels, each serving a distinct purpose in tracking the severity of events within an application. These levels, in ascending order of severity, are:\n",
        "\n",
        "**DEBUG (10)**:\n",
        "This level is used for detailed information, typically valuable for diagnosing problems during development and debugging. It provides insights into the internal state and execution flow of the application.\n",
        "\n",
        "**INFO (20)**:\n",
        "The INFO level confirms that the application is functioning as expected. It logs general events that signify progress or successful operations.\n",
        "\n",
        "**WARNING (30)**:\n",
        "This level indicates that something unexpected occurred or a potential problem might arise soon. While the software is still working as expected, these messages warrant attention and investigation.\n",
        "\n",
        "**ERROR (40)**:\n",
        "The ERROR level signifies a more serious issue where the software has failed to perform a function. These logs capture exceptions and errors within the application, providing context for troubleshooting.\n",
        "\n",
        "**CRITICAL (50)**:\n",
        "This is the highest level, used for severe errors that may cause the application to terminate or become unable to continue running. It signals a critical problem requiring immediate attention.\n",
        "\n",
        "The numeric values associated with each level are used for filtering log messages. When a logging level is set, only messages of that level or higher severity will be output. For example, setting the level to WARNING will output WARNING, ERROR, and CRITICAL messages, but not DEBUG or INFO messages."
      ],
      "metadata": {
        "id": "cSYC-WmoBDhU"
      }
    },
    {
      "cell_type": "markdown",
      "source": [
        "Ques18. What is the difference between os.fork() and multiprocessing in Python ?"
      ],
      "metadata": {
        "id": "TNTXbTx4BfC8"
      }
    },
    {
      "cell_type": "markdown",
      "source": [
        "os.fork() and multiprocessing both facilitate the creation of processes in Python, but they operate at different levels of abstraction and have distinct characteristics:"
      ],
      "metadata": {
        "id": "Ypf2Fh4MBoo2"
      }
    },
    {
      "cell_type": "markdown",
      "source": [
        "![Screenshot 2025-04-04 234946.png](data:image/png;base64,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)"
      ],
      "metadata": {
        "id": "GOvtiAf2By3c"
      }
    },
    {
      "cell_type": "markdown",
      "source": [
        "Ques19. What is the importance of closing a file in Python ?"
      ],
      "metadata": {
        "id": "XlsB7VAnCCUt"
      }
    },
    {
      "cell_type": "markdown",
      "source": [
        "Closing a file in Python is important for several reasons:\n",
        "\n",
        "**Resource Management**:\n",
        "When a file is opened, the operating system allocates resources to manage it. If the file is not closed properly, these resources may not be released, leading to resource leaks. Over time, this can cause performance issues or even crashes, especially if many files are opened and not closed.\n",
        "\n",
        "**Data Integrity**:\n",
        "When writing to a file, the data is often buffered in memory before being written to the disk. Closing the file ensures that all buffered data is flushed to the disk, preventing data loss or corruption. If the program terminates unexpectedly before the file is closed, the buffered data may not be written, leading to incomplete or corrupted files.\n",
        "\n",
        "**File Locking**:\n",
        "Some file systems lock files when they are opened for writing. If a file is not closed, it may remain locked, preventing other processes or users from accessing it. This can cause problems if other programs or users need to read or write to the file.\n",
        "\n",
        "**Best Practices**:\n",
        "Closing files is considered good programming practice. It makes the code more robust and easier to understand, as it clearly indicates when resources are being managed. It also helps to prevent potential problems that can arise from leaving files open unnecessarily."
      ],
      "metadata": {
        "id": "QjvbTH7QCaO1"
      }
    },
    {
      "cell_type": "code",
      "source": [
        "try:\n",
        "    file = open(\"my_file.txt\", \"w\")\n",
        "    file.write(\"Hello, world!\")\n",
        "finally:\n",
        "    file.close()"
      ],
      "metadata": {
        "id": "sN4tVHfMCtnG"
      },
      "execution_count": null,
      "outputs": []
    },
    {
      "cell_type": "markdown",
      "source": [
        "Using the with statement is the recommended way to handle files in Python, as it automatically closes the file, even if exceptions occur."
      ],
      "metadata": {
        "id": "B9J0HVSEC9Xc"
      }
    },
    {
      "cell_type": "code",
      "source": [
        "with open(\"my_file.txt\", \"r\") as file:\n",
        "    content = file.read()"
      ],
      "metadata": {
        "id": "s_3XAOJBDA1N"
      },
      "execution_count": null,
      "outputs": []
    },
    {
      "cell_type": "markdown",
      "source": [
        "Ques20. What is the difference between file.read() and file.readline() in Python ?"
      ],
      "metadata": {
        "id": "-oNiiIqEDB81"
      }
    },
    {
      "cell_type": "markdown",
      "source": [
        "file.read() and file.readline() are both methods used to read data from a file in Python, but they differ in how much data they read at a time:\n",
        "\n",
        "**file.read()**: This method reads the entire file from the current position of the file pointer and returns it as a single string. If a size argument is provided (e.g., file.read(size)), it reads up to that many bytes from the file. If the end of the file is reached, it returns an empty string.\n",
        "\n",
        "**file.readline()**: This method reads a single line from the file, including the newline character (\\n) at the end, and returns it as a string. If the end of the file is reached or an empty line is encountered, it returns an empty string."
      ],
      "metadata": {
        "id": "0UTKnrCYDKeM"
      }
    },
    {
      "cell_type": "markdown",
      "source": [
        "Ques21.What is the logging module in Python used for ?"
      ],
      "metadata": {
        "id": "3MkJbuW6DqqE"
      }
    },
    {
      "cell_type": "markdown",
      "source": [
        "The Python logging module is used to track events, debug issues, and monitor the health of Python applications by capturing and storing information about program execution. It's a powerful tool for developers to understand application behavior and troubleshoot problems."
      ],
      "metadata": {
        "id": "mM8I3MhgD0FH"
      }
    },
    {
      "cell_type": "markdown",
      "source": [
        "Ques22. What is the os module in Python used for in file handling ?"
      ],
      "metadata": {
        "id": "BmU3Xkr-EEOG"
      }
    },
    {
      "cell_type": "markdown",
      "source": [
        "In Python's file handling, the os module provides functions for interacting with the operating system, allowing you to manipulate files and directories, such as creating, deleting, and renaming them, as well as accessing file system information."
      ],
      "metadata": {
        "id": "OT_-jCVZEHXv"
      }
    },
    {
      "cell_type": "markdown",
      "source": [
        "Ques23. What are the challenges associated with memory management in Python ?"
      ],
      "metadata": {
        "id": "yXOnco9DEO5F"
      }
    },
    {
      "cell_type": "markdown",
      "source": [
        "Python, while offering automatic memory management through garbage collection, presents several challenges:\n",
        "\n",
        "**Memory Leaks**:\n",
        "Although Python utilizes garbage collection, memory leaks can still occur, particularly with circular references where objects reference each other, preventing their reference counts from reaching zero and thus not being collected.\n",
        "\n",
        "**Circular References**:\n",
        "Python's reference counting system struggles with cyclic dependencies. When objects refer to each other, their reference counts remain above zero, leading to memory leaks if not handled properly.\n",
        "\n",
        "**Garbage Collection Overhead**:\n",
        "While automatic garbage collection simplifies development, it can introduce performance overhead due to the time it takes to identify and reclaim unused memory. This can lead to unpredictable pauses and latency spikes, which is a concern for real-time or performance-critical applications.\n",
        "\n",
        "**Memory Fragmentation**:\n",
        "Frequent allocation and deallocation of memory can lead to fragmentation, where small, non-contiguous blocks of memory become unusable. This can hinder the allocation of larger objects, even if sufficient total memory is available.\n",
        "\n",
        "**Multithreading and Multiprocessing**:\n",
        "Managing memory in multithreaded and multiprocessed environments can be complex. Race conditions, deadlocks, and synchronization issues can arise, requiring careful management of shared memory and resources. Each process in multiprocessing has its own memory space, which can be resource-intensive.\n",
        "\n",
        "**Memory inefficiency**:\n",
        "Python tends to be memory-intensive. When assigning a variable to another, it does not allocate new memory, instead, it creates a new reference to the existing object. Although it is efficient, it may lead to high memory consumption.\n",
        "\n",
        "**Limited Customizability**:\n",
        "Python's memory management offers less manual control compared to languages like C or C++. This can be a limitation when dealing with specific memory requirements or optimizations.\n",
        "\n",
        "**Large Datasets**:\n",
        "Working with large datasets can be challenging due to Python's memory consumption. Loading and manipulating sizable datasets may lead to memory errors or inefficient memory utilization.\n",
        "\n",
        "**Memory Profiling and Debugging**:\n",
        "Identifying and resolving memory-related issues can be difficult without proper tooling. Memory profiling tools are essential for analyzing memory usage, detecting leaks, and optimizing memory consumption."
      ],
      "metadata": {
        "id": "O3ga-I4bEVtW"
      }
    },
    {
      "cell_type": "markdown",
      "source": [
        "Ques24. How do you raise an exception manually in Python ?"
      ],
      "metadata": {
        "id": "_lttxK6pEy38"
      }
    },
    {
      "cell_type": "markdown",
      "source": [
        "To manually raise an exception in Python, the raise keyword is used, followed by the exception class or instance. An optional error message can be included for clarity"
      ],
      "metadata": {
        "id": "AzxZKPSuFIXF"
      }
    },
    {
      "cell_type": "code",
      "source": [
        "raise ValueError(\"Invalid input value\")\n",
        "\n",
        "def process_data(data):\n",
        "    if not isinstance(data, list):\n",
        "        raise TypeError(\"Data must be a list\")\n",
        "    # Process the data"
      ],
      "metadata": {
        "id": "cIjkL20ZFdsV"
      },
      "execution_count": null,
      "outputs": []
    },
    {
      "cell_type": "markdown",
      "source": [
        "In this example, if data is not a list, a TypeError exception is raised with the message \"Data must be a list.\"\n"
      ],
      "metadata": {
        "id": "ciQG59zxFQKG"
      }
    },
    {
      "cell_type": "markdown",
      "source": [
        "Ques25. Why is it important to use multithreading in certain applications ?"
      ],
      "metadata": {
        "id": "n477TlFBFfS9"
      }
    },
    {
      "cell_type": "markdown",
      "source": [
        "Multithreading is crucial for certain applications as it enables concurrent execution of tasks, leading to improved performance, resource utilization, and responsiveness, especially in applications involving I/O or waiting for external events."
      ],
      "metadata": {
        "id": "US-3yDi-FlqE"
      }
    },
    {
      "cell_type": "markdown",
      "source": [
        "# **Practical Questions**"
      ],
      "metadata": {
        "id": "qEd8rVezFue2"
      }
    },
    {
      "cell_type": "markdown",
      "source": [
        "1. How can you open a file for writing in Python and write a string to it ?"
      ],
      "metadata": {
        "id": "IvyxXgO5F0UV"
      }
    },
    {
      "cell_type": "code",
      "source": [
        "# Open a file for writing (\"w\" mode). If the file doesn't exist, it will be created.\n",
        "# If it exists, it will be overwritten.\n",
        "with open(\"my_new_file.txt\", \"w\") as file:\n",
        "    file.write(\"This is a string written to the file.\")\n"
      ],
      "metadata": {
        "id": "1WNneQM66O4M"
      },
      "execution_count": 1,
      "outputs": []
    },
    {
      "cell_type": "markdown",
      "source": [
        "2. Write a Python program to read the contents of a file and print each line."
      ],
      "metadata": {
        "id": "LA7mP4N168tn"
      }
    },
    {
      "cell_type": "code",
      "source": [
        "def print_file_contents(filepath):\n",
        "    \"\"\"Reads a file and prints each line.\"\"\"\n",
        "    try:\n",
        "        with open(filepath, 'r') as file:\n",
        "            for line in file:\n",
        "                print(line, end='')  # end='' prevents extra newline\n",
        "    except FileNotFoundError:\n",
        "        print(f\"Error: File '{filepath}' not found.\")\n",
        "\n",
        "# Example usage (replace 'your_file.txt' with the actual file path):\n",
        "print_file_contents('my_file.txt')\n"
      ],
      "metadata": {
        "colab": {
          "base_uri": "https://localhost:8080/"
        },
        "id": "TvHFDLMQ63sM",
        "outputId": "26cc3659-8761-4319-eefd-ae170fce8894"
      },
      "execution_count": 2,
      "outputs": [
        {
          "output_type": "stream",
          "name": "stdout",
          "text": [
            "Error: File 'my_file.txt' not found.\n"
          ]
        }
      ]
    },
    {
      "cell_type": "markdown",
      "source": [
        "3. How would you handle a case where the file doesn't exist while trying to open it for reading ?"
      ],
      "metadata": {
        "id": "cR-wgyOC7Jw7"
      }
    },
    {
      "cell_type": "code",
      "source": [
        "def print_file_contents(filepath):\n",
        "    \"\"\"Reads a file and prints each line, handling file not found.\"\"\"\n",
        "    try:\n",
        "        with open(filepath, 'r') as file:\n",
        "            for line in file:\n",
        "                print(line, end='')\n",
        "    except FileNotFoundError:\n",
        "        print(f\"Error: File '{filepath}' not found.\")\n"
      ],
      "metadata": {
        "id": "Tw-YzC-G7Yr_"
      },
      "execution_count": 4,
      "outputs": []
    },
    {
      "cell_type": "markdown",
      "source": [
        "4. Write a Python script that reads from one file and writes its content to another file."
      ],
      "metadata": {
        "id": "QYtQ_2qk7ejX"
      }
    },
    {
      "cell_type": "code",
      "source": [
        "def copy_file(source_path, destination_path):\n",
        "    \"\"\"Reads from one file and writes its content to another file.\"\"\"\n",
        "    try:\n",
        "        with open(source_path, 'r') as source_file:\n",
        "            with open(destination_path, 'w') as destination_file:\n",
        "                for line in source_file:\n",
        "                    destination_file.write(line)\n",
        "        print(f\"File '{source_path}' copied to '{destination_path}' successfully.\")\n",
        "    except FileNotFoundError:\n",
        "        print(f\"Error: Source file '{source_path}' not found.\")\n",
        "    except Exception as e:\n",
        "        print(f\"An error occurred: {e}\")\n",
        "\n",
        "# Example usage:\n",
        "copy_file('my_file.txt', 'new_file.txt')\n"
      ],
      "metadata": {
        "id": "BmQgwKf27wly"
      },
      "execution_count": null,
      "outputs": []
    },
    {
      "cell_type": "markdown",
      "source": [
        "5. How would you catch and handle division by zero error in Python ?"
      ],
      "metadata": {
        "id": "69x1vdz47zGj"
      }
    },
    {
      "cell_type": "code",
      "source": [
        "def safe_division(numerator, denominator):\n",
        "    try:\n",
        "        result = numerator / denominator\n",
        "        return result\n",
        "    except ZeroDivisionError:\n",
        "        print(\"Error: Division by zero!\")\n",
        "        return None  # Or handle the error in another way\n",
        "\n",
        "# Example usage\n",
        "result1 = safe_division(10, 2)\n",
        "print(result1)  # Output: 5.0\n",
        "\n",
        "result2 = safe_division(10, 0)\n",
        "print(result2)  # Output: Error: Division by zero!\n",
        "                #         None"
      ],
      "metadata": {
        "colab": {
          "base_uri": "https://localhost:8080/"
        },
        "id": "c6WWXSVg9M6G",
        "outputId": "1ee01657-ebc3-4ab5-a9c2-bc3cbd5d58f0"
      },
      "execution_count": 6,
      "outputs": [
        {
          "output_type": "stream",
          "name": "stdout",
          "text": [
            "5.0\n",
            "Error: Division by zero!\n",
            "None\n"
          ]
        }
      ]
    },
    {
      "cell_type": "markdown",
      "source": [
        "6. Write a Python program that logs an error message to a log file when a division by zero exception occurs ."
      ],
      "metadata": {
        "id": "CU6X7L_s9bKt"
      }
    },
    {
      "cell_type": "code",
      "source": [
        "import logging\n",
        "\n",
        "def safe_division(numerator, denominator):\n",
        "    try:\n",
        "        result = numerator / denominator\n",
        "        return result\n",
        "    except ZeroDivisionError:\n",
        "        logging.error(\"Division by zero occurred!\")\n",
        "        return None\n",
        "\n",
        "# Configure logging to write to a file\n",
        "logging.basicConfig(filename='error_log.txt', level=logging.ERROR,\n",
        "                    format='%(asctime)s - %(levelname)s - %(message)s')\n",
        "\n",
        "# Example usage\n",
        "result1 = safe_division(10, 2)\n",
        "print(result1)\n",
        "\n",
        "result2 = safe_division(10, 0)\n",
        "result2\n"
      ],
      "metadata": {
        "colab": {
          "base_uri": "https://localhost:8080/"
        },
        "id": "WsF4YhBN9jaN",
        "outputId": "866dc3fd-4e8e-4043-9d1e-b129c6c0dc53"
      },
      "execution_count": 7,
      "outputs": [
        {
          "output_type": "stream",
          "name": "stderr",
          "text": [
            "ERROR:root:Division by zero occurred!\n"
          ]
        },
        {
          "output_type": "stream",
          "name": "stdout",
          "text": [
            "5.0\n"
          ]
        }
      ]
    },
    {
      "cell_type": "markdown",
      "source": [
        "7. How do you log information at different levels (INFO, ERROR, WARNING) in Python using the logging module ?"
      ],
      "metadata": {
        "id": "CNNk1xW89wir"
      }
    },
    {
      "cell_type": "code",
      "source": [
        "import logging\n",
        "\n",
        "# Configure the logging system\n",
        "logging.basicConfig(level=logging.DEBUG,  # Set the root logger's level\n",
        "                    format='%(asctime)s - %(levelname)s - %(message)s')\n",
        "\n",
        "# Log messages at different levels\n",
        "logging.debug(\"This is a debug message.\")\n",
        "logging.info(\"This is an informational message.\")\n",
        "logging.warning(\"This is a warning message.\")\n",
        "logging.error(\"This is an error message.\")\n",
        "logging.critical(\"This is a critical message.\")\n",
        "\n",
        "\n",
        "# Example with a specific logger\n",
        "logger = logging.getLogger(\"my_logger\")  # Create a named logger\n",
        "logger.setLevel(logging.INFO)  # Set the level for this specific logger\n",
        "\n",
        "logger.info(\"Message from my_logger\")\n"
      ],
      "metadata": {
        "colab": {
          "base_uri": "https://localhost:8080/"
        },
        "id": "mWJ5hHuM-pR8",
        "outputId": "1781d6ff-2ace-4177-aa33-fbc9e727431c"
      },
      "execution_count": 9,
      "outputs": [
        {
          "output_type": "stream",
          "name": "stderr",
          "text": [
            "WARNING:root:This is a warning message.\n",
            "ERROR:root:This is an error message.\n",
            "CRITICAL:root:This is a critical message.\n",
            "INFO:my_logger:Message from my_logger\n"
          ]
        }
      ]
    },
    {
      "cell_type": "markdown",
      "source": [
        "8. Write a program to handle a file opening error using exception handling."
      ],
      "metadata": {
        "id": "U1IcMnwn-s8F"
      }
    },
    {
      "cell_type": "code",
      "source": [
        "import logging\n",
        "\n",
        "def handle_file_errors(filepath):\n",
        "    try:\n",
        "        with open(filepath, 'r') as file:\n",
        "            contents = file.read()\n",
        "            print(\"File content:\\n\", contents)\n",
        "    except FileNotFoundError:\n",
        "        logging.error(f\"Error: File '{filepath}' not found.\")\n",
        "        print(f\"Error: File '{filepath}' not found.\")\n",
        "    except Exception as e:\n",
        "        logging.exception(f\"An unexpected error occurred: {e}\") # Log the full traceback\n",
        "        print(f\"An unexpected error occurred: {e}\")\n",
        "\n",
        "# Configure logging (optional, but recommended)\n",
        "logging.basicConfig(filename='file_handling_errors.log', level=logging.ERROR,\n",
        "                    format='%(asctime)s - %(levelname)s - %(message)s')\n",
        "\n",
        "\n",
        "# Example usage\n",
        "handle_file_errors(\"my_file.txt\") # This file exists from the previous code\n",
        "handle_file_errors(\"nonexistent_file.txt\")\n"
      ],
      "metadata": {
        "colab": {
          "base_uri": "https://localhost:8080/"
        },
        "id": "f4ZUpJ4c_Exe",
        "outputId": "16efaa98-69fa-4918-df10-20c2f8822cd0"
      },
      "execution_count": 10,
      "outputs": [
        {
          "output_type": "stream",
          "name": "stderr",
          "text": [
            "ERROR:root:Error: File 'my_file.txt' not found.\n",
            "ERROR:root:Error: File 'nonexistent_file.txt' not found.\n"
          ]
        },
        {
          "output_type": "stream",
          "name": "stdout",
          "text": [
            "Error: File 'my_file.txt' not found.\n",
            "Error: File 'nonexistent_file.txt' not found.\n"
          ]
        }
      ]
    },
    {
      "cell_type": "markdown",
      "source": [
        "9. How can you read a file line by line and store its content in a list in Python ."
      ],
      "metadata": {
        "id": "B_lHguvd_VKo"
      }
    },
    {
      "cell_type": "code",
      "source": [
        "def read_file_into_list(filepath):\n",
        "    \"\"\"Reads a file line by line and stores its content in a list.\"\"\"\n",
        "    try:\n",
        "        with open(filepath, 'r') as file:\n",
        "            lines = file.readlines()\n",
        "            return lines\n",
        "    except FileNotFoundError:\n",
        "        print(f\"Error: File '{filepath}' not found.\")\n",
        "        return None\n",
        "\n",
        "# Example usage\n",
        "file_content_list = read_file_into_list('my_file.txt')\n",
        "\n",
        "if file_content_list:\n",
        "    for line in file_content_list:\n",
        "      print(line, end=\"\")\n"
      ],
      "metadata": {
        "colab": {
          "base_uri": "https://localhost:8080/"
        },
        "id": "8zzE931tAA3U",
        "outputId": "9740284a-9529-40e2-c16d-80f9df8543c4"
      },
      "execution_count": 11,
      "outputs": [
        {
          "output_type": "stream",
          "name": "stdout",
          "text": [
            "Error: File 'my_file.txt' not found.\n"
          ]
        }
      ]
    },
    {
      "cell_type": "markdown",
      "source": [
        "10. How can you append data to an existing file in Python ?"
      ],
      "metadata": {
        "id": "x0cvtKEkAOY0"
      }
    },
    {
      "cell_type": "code",
      "source": [
        "def append_to_file(filepath, data):\n",
        "    \"\"\"Appends data to an existing file.\"\"\"\n",
        "    try:\n",
        "        with open(filepath, 'a') as file:  # Open in append mode ('a')\n",
        "            file.write(data)\n",
        "        print(f\"Data appended to '{filepath}' successfully.\")\n",
        "    except FileNotFoundError:\n",
        "        print(f\"Error: File '{filepath}' not found.\")\n",
        "    except Exception as e:\n",
        "        print(f\"An error occurred: {e}\")\n",
        "\n",
        "# Example usage:\n",
        "append_to_file('my_file.txt', \"\\nThis is appended text.\")\n"
      ],
      "metadata": {
        "colab": {
          "base_uri": "https://localhost:8080/"
        },
        "id": "1xrvXG3gAXyO",
        "outputId": "deef285c-21bc-4463-c053-903872b1dc5d"
      },
      "execution_count": 12,
      "outputs": [
        {
          "output_type": "stream",
          "name": "stdout",
          "text": [
            "Data appended to 'my_file.txt' successfully.\n"
          ]
        }
      ]
    },
    {
      "cell_type": "markdown",
      "source": [
        "11. Write a Python program that uses a try-except block to handle an error when attempting to access a dictionary key that doesn't exist ."
      ],
      "metadata": {
        "id": "4RNRp1AvAmkV"
      }
    },
    {
      "cell_type": "code",
      "source": [
        "my_dict = {\"a\": 1, \"b\": 2}\n",
        "\n",
        "try:\n",
        "    value = my_dict[\"c\"]  # Attempting to access a non-existent key\n",
        "    print(value)\n",
        "except KeyError:\n",
        "    print(\"Error: Key 'c' not found in the dictionary.\")\n"
      ],
      "metadata": {
        "colab": {
          "base_uri": "https://localhost:8080/"
        },
        "id": "e1P9NYD1A5-U",
        "outputId": "a59943f6-2d0f-44c4-e5ea-e9872e701140"
      },
      "execution_count": 13,
      "outputs": [
        {
          "output_type": "stream",
          "name": "stdout",
          "text": [
            "Error: Key 'c' not found in the dictionary.\n"
          ]
        }
      ]
    },
    {
      "cell_type": "markdown",
      "source": [
        "12. Write a program that demonstrates using multiple except blocks to handle different types of exceptions ."
      ],
      "metadata": {
        "id": "5Z7tZOtpB4Is"
      }
    },
    {
      "cell_type": "code",
      "source": [
        "def demo_multiple_exceptions():\n",
        "    try:\n",
        "        # Prompt user to perform a division\n",
        "        x = int(input(\"Enter a numerator: \"))\n",
        "        y = int(input(\"Enter a denominator: \"))\n",
        "        result = x / y  # May raise ZeroDivisionError\n",
        "        print(f\"Result of division: {result}\")\n",
        "\n",
        "        # Prompt user to input a number for a potential ValueError\n",
        "        number = int(input(\"Enter a number to calculate its square root: \"))  # May raise ValueError\n",
        "        if number < 0:\n",
        "            raise ValueError(\"Cannot calculate square root of negative numbers.\")\n",
        "        print(f\"Square root of {number}: {number ** 0.5}\")\n",
        "\n",
        "        # Try opening a non-existent file to raise FileNotFoundError\n",
        "        file = input(\"Enter a file name to open: \")  # May raise FileNotFoundError\n",
        "        with open(file, 'r') as f:\n",
        "            print(f\"File content: {f.read()}\")\n",
        "\n",
        "    except ZeroDivisionError:\n",
        "        print(\"Error: Division by zero is not allowed.\")\n",
        "    except ValueError as ve:\n",
        "        print(f\"Error: {ve}\")\n",
        "    except FileNotFoundError:\n",
        "        print(\"Error: The file was not found.\")\n",
        "    except Exception as e:\n",
        "        print(f\"An unexpected error occurred: {e}\")\n",
        "\n",
        "# Call the function to demonstrate exception handling\n",
        "demo_multiple_exceptions()\n"
      ],
      "metadata": {
        "colab": {
          "base_uri": "https://localhost:8080/"
        },
        "id": "5PW1Wrr6DuUt",
        "outputId": "8a9129fd-8503-43a6-9152-d6db0f63b10d"
      },
      "execution_count": 17,
      "outputs": [
        {
          "output_type": "stream",
          "name": "stdout",
          "text": [
            "Enter a numerator: 20\n",
            "Enter a denominator: 4\n",
            "Result of division: 5.0\n",
            "Enter a number to calculate its square root: 5\n",
            "Square root of 5: 2.23606797749979\n",
            "Enter a file name to open: function1.ipynb\n",
            "Error: The file was not found.\n"
          ]
        }
      ]
    },
    {
      "cell_type": "markdown",
      "source": [
        "13. How would you check if a file exists before attempting to read it in Python ?"
      ],
      "metadata": {
        "id": "X4OC3WJBED_P"
      }
    },
    {
      "cell_type": "code",
      "source": [
        "import os\n",
        "\n",
        "def read_file_if_exists(filepath):\n",
        "    if os.path.exists(filepath):\n",
        "        try:\n",
        "            with open(filepath, 'r') as file:\n",
        "                contents = file.read()\n",
        "                print(contents)\n",
        "        except Exception as e:\n",
        "            print(f\"An error occurred while reading the file: {e}\")\n",
        "    else:\n",
        "        print(f\"Error: File '{filepath}' not found.\")\n",
        "\n",
        "# Example usage\n",
        "read_file_if_exists(\"my_file.txt\")\n",
        "read_file_if_exists(\"nonexistent_file.txt\")\n"
      ],
      "metadata": {
        "colab": {
          "base_uri": "https://localhost:8080/"
        },
        "id": "HD-Tym4sEZBN",
        "outputId": "b06e5c4f-cb94-4ac7-b9e1-82e6a99ba707"
      },
      "execution_count": 18,
      "outputs": [
        {
          "output_type": "stream",
          "name": "stdout",
          "text": [
            "\n",
            "This is appended text.\n",
            "Error: File 'nonexistent_file.txt' not found.\n"
          ]
        }
      ]
    },
    {
      "cell_type": "markdown",
      "source": [
        "14. Write a program that uses the logging module to log both informational and error messages."
      ],
      "metadata": {
        "id": "aS3vuXRSE2gE"
      }
    },
    {
      "cell_type": "code",
      "source": [
        "import logging\n",
        "\n",
        "# Set up logging configuration\n",
        "logging.basicConfig(\n",
        "    level=logging.DEBUG,  # Set the logging level to capture all messages from DEBUG level and above\n",
        "    format='%(asctime)s - %(levelname)s - %(message)s',  # Format for the log message\n",
        "    handlers=[\n",
        "        logging.FileHandler('app.log'),  # Log to a file\n",
        "        logging.StreamHandler()          # Log to the console\n",
        "    ]\n",
        ")\n",
        "\n",
        "# Example of logging an informational message\n",
        "logging.info(\"This is an informational message.\")\n",
        "\n",
        "# Example of logging an error message\n",
        "try:\n",
        "    result = 10 / 0  # This will raise a ZeroDivisionError\n",
        "except ZeroDivisionError as e:\n",
        "    logging.error(f\"Error occurred: {e}\")\n"
      ],
      "metadata": {
        "colab": {
          "base_uri": "https://localhost:8080/"
        },
        "id": "iKGWuJSbG6VX",
        "outputId": "411c5693-dc0f-434b-deb8-1a81cf4b1675"
      },
      "execution_count": 19,
      "outputs": [
        {
          "output_type": "stream",
          "name": "stderr",
          "text": [
            "ERROR:root:Error occurred: division by zero\n"
          ]
        }
      ]
    },
    {
      "cell_type": "markdown",
      "source": [
        "15. Write a Python program that prints the content of a file and handles the case when the file is empty."
      ],
      "metadata": {
        "id": "00gYGXMjHiFt"
      }
    },
    {
      "cell_type": "code",
      "source": [
        "def read_file(file_path):\n",
        "    try:\n",
        "        with open(file_path, 'r') as file:\n",
        "            content = file.read()\n",
        "            if content:\n",
        "                print(content)\n",
        "            else:\n",
        "                print(\"The file is empty.\")\n",
        "    except FileNotFoundError:\n",
        "        print(f\"The file at {file_path} was not found.\")\n",
        "    except Exception as e:\n",
        "        print(f\"An error occurred: {e}\")\n",
        "\n",
        "# Example usage\n",
        "file_path = \"your_file.txt\"  # Replace with your file path\n",
        "read_file(file_path)\n"
      ],
      "metadata": {
        "colab": {
          "base_uri": "https://localhost:8080/"
        },
        "id": "U9PeXM04HzFF",
        "outputId": "24dbe8ab-ff1a-49ec-9050-2b5036cac9cd"
      },
      "execution_count": 20,
      "outputs": [
        {
          "output_type": "stream",
          "name": "stdout",
          "text": [
            "The file at your_file.txt was not found.\n"
          ]
        }
      ]
    },
    {
      "cell_type": "markdown",
      "source": [
        "16. Demonstrate how to use memory profiling to check the memory usage of a small program ."
      ],
      "metadata": {
        "id": "ZC8etiJHICb2"
      }
    },
    {
      "cell_type": "code",
      "source": [
        "import time\n",
        "\n",
        "def create_large_list():\n",
        "    # Create a large list of integers\n",
        "    large_list = [i for i in range(1000000)]\n",
        "    return large_list\n",
        "\n",
        "def main():\n",
        "    print(\"Starting memory profiling...\")\n",
        "    time.sleep(2)  # Simulate some delay\n",
        "    large_list = create_large_list()\n",
        "    print(f\"List created with {len(large_list)} elements.\")\n",
        "    time.sleep(2)  # Simulate some delay\n",
        "    print(\"Program finished.\")\n",
        "\n",
        "if __name__ == \"__main__\":\n",
        "    main()\n"
      ],
      "metadata": {
        "colab": {
          "base_uri": "https://localhost:8080/"
        },
        "id": "QXQ3fIhhIVvu",
        "outputId": "374d9f64-4a60-47a6-f23b-10fa979d60df"
      },
      "execution_count": 22,
      "outputs": [
        {
          "output_type": "stream",
          "name": "stdout",
          "text": [
            "Starting memory profiling...\n",
            "List created with 1000000 elements.\n",
            "Program finished.\n"
          ]
        }
      ]
    },
    {
      "cell_type": "markdown",
      "source": [
        "17. Write a Python program to create and write a list of numbers to a file, one number per line ."
      ],
      "metadata": {
        "id": "TZKRie-aI-OO"
      }
    },
    {
      "cell_type": "code",
      "source": [
        "# prompt: Write a Python program to create and write a list of numbers to a file, one number per line\n",
        "\n",
        "def write_numbers_to_file(filepath, numbers):\n",
        "    \"\"\"Writes a list of numbers to a file, one number per line.\"\"\"\n",
        "    try:\n",
        "        with open(filepath, 'w') as file:\n",
        "            for number in numbers:\n",
        "                file.write(str(number) + '\\n')\n",
        "        print(f\"Numbers written to '{filepath}' successfully.\")\n",
        "    except Exception as e:\n",
        "        print(f\"An error occurred: {e}\")\n",
        "\n",
        "# Example usage:\n",
        "numbers = [1, 2, 3, 4, 5, 6, 7, 8, 9, 10]\n",
        "write_numbers_to_file('numbers.txt', numbers)\n"
      ],
      "metadata": {
        "colab": {
          "base_uri": "https://localhost:8080/"
        },
        "id": "kYnCHXnxJADH",
        "outputId": "863a85c0-f228-421d-bf83-a154f35d3c8a"
      },
      "execution_count": 23,
      "outputs": [
        {
          "output_type": "stream",
          "name": "stdout",
          "text": [
            "Numbers written to 'numbers.txt' successfully.\n"
          ]
        }
      ]
    },
    {
      "cell_type": "markdown",
      "source": [
        "18. How would you implement a basic logging setup that logs to a file with rotation after 1MB ?"
      ],
      "metadata": {
        "id": "hO6qbNrWJd7W"
      }
    },
    {
      "cell_type": "code",
      "source": [
        "import logging\n",
        "from logging.handlers import RotatingFileHandler\n",
        "\n",
        "def setup_logging(log_file=\"my_app.log\", max_bytes=1024*1024): # 1MB\n",
        "    \"\"\"Sets up a rotating file handler for logging.\"\"\"\n",
        "\n",
        "    logger = logging.getLogger()  # Get the root logger\n",
        "    logger.setLevel(logging.DEBUG)  # Set the overall logging level\n",
        "\n",
        "    handler = RotatingFileHandler(log_file, maxBytes=max_bytes, backupCount=5) # Keep 5 backup logs\n",
        "    formatter = logging.Formatter('%(asctime)s - %(levelname)s - %(message)s')\n",
        "    handler.setFormatter(formatter)\n",
        "    logger.addHandler(handler)\n",
        "\n",
        "\n",
        "# Example usage:\n",
        "\n",
        "setup_logging() # Use default log file and size\n",
        "\n",
        "logging.debug(\"This is a debug message\")\n",
        "logging.info(\"This is an info message\")\n",
        "logging.warning(\"This is a warning message\")\n",
        "logging.error(\"This is an error message\")\n",
        "logging.critical(\"This is a critical message\")\n",
        "\n",
        "\n",
        "#To use a different log file or max size:\n",
        "# setup_logging(\"my_other_log.txt\", 2 * 1024 * 1024) # 2MB log files\n"
      ],
      "metadata": {
        "colab": {
          "base_uri": "https://localhost:8080/"
        },
        "id": "6A4tK28MJ6Em",
        "outputId": "749c420f-5949-47f8-84a1-4f9c60cef1ce"
      },
      "execution_count": 26,
      "outputs": [
        {
          "output_type": "stream",
          "name": "stderr",
          "text": [
            "DEBUG:root:This is a debug message\n",
            "INFO:root:This is an info message\n",
            "WARNING:root:This is a warning message\n",
            "ERROR:root:This is an error message\n",
            "CRITICAL:root:This is a critical message\n"
          ]
        }
      ]
    },
    {
      "cell_type": "markdown",
      "source": [
        "19. Write a program that handles both IndexError and KeyError using a try-except block ."
      ],
      "metadata": {
        "id": "ziYUysRjJ8Oe"
      }
    },
    {
      "cell_type": "code",
      "source": [
        "def handle_exceptions(data):\n",
        "    try:\n",
        "        # Simulate an IndexError\n",
        "        print(data[10])  # Accessing an index out of bounds\n",
        "    except IndexError:\n",
        "        print(\"An IndexError occurred: Index out of range.\")\n",
        "\n",
        "    my_dict = {\"a\": 1, \"b\": 2}\n",
        "    try:\n",
        "      # Simulate a KeyError\n",
        "      value = my_dict[\"c\"]\n",
        "      print(value)\n",
        "    except KeyError:\n",
        "        print(\"A KeyError occurred: Key not found.\")\n",
        "\n",
        "# Example usage\n",
        "my_list = [1, 2, 3, 4, 5]\n",
        "handle_exceptions(my_list)\n"
      ],
      "metadata": {
        "colab": {
          "base_uri": "https://localhost:8080/"
        },
        "id": "gSEGw4okKCW2",
        "outputId": "1ff98853-2beb-43cd-8b62-d110c1df09f3"
      },
      "execution_count": 29,
      "outputs": [
        {
          "output_type": "stream",
          "name": "stdout",
          "text": [
            "An IndexError occurred: Index out of range.\n",
            "A KeyError occurred: Key not found.\n"
          ]
        }
      ]
    },
    {
      "cell_type": "markdown",
      "source": [
        "20. How would you open a file and read its contents using a context manager in Python ?"
      ],
      "metadata": {
        "id": "3Q9HFrsULFrd"
      }
    },
    {
      "cell_type": "code",
      "source": [
        "with open(\"my_file.txt\", \"r\") as file:\n",
        "    contents = file.read()\n",
        "contents\n"
      ],
      "metadata": {
        "colab": {
          "base_uri": "https://localhost:8080/",
          "height": 36
        },
        "id": "aSMsDdQFLl13",
        "outputId": "5d6be473-3ca5-4f3c-98af-b58bdff7b9a2"
      },
      "execution_count": 31,
      "outputs": [
        {
          "output_type": "execute_result",
          "data": {
            "text/plain": [
              "'\\nThis is appended text.'"
            ],
            "application/vnd.google.colaboratory.intrinsic+json": {
              "type": "string"
            }
          },
          "metadata": {},
          "execution_count": 31
        }
      ]
    },
    {
      "cell_type": "markdown",
      "source": [
        "21. Write a Python program that reads a file and prints the number of occurrences of a specific word ."
      ],
      "metadata": {
        "id": "wLaR-cklMLFn"
      }
    },
    {
      "cell_type": "code",
      "source": [
        "def count_word_in_file(file_path, target_word):\n",
        "    try:\n",
        "        with open(file_path, 'r') as file:\n",
        "            content = file.read()  # Read the entire content of the file\n",
        "            word_count = content.lower().split().count(target_word.lower())  # Case-insensitive search\n",
        "        return word_count\n",
        "    except FileNotFoundError:\n",
        "        return \"The file does not exist.\"\n",
        "    except Exception as e:\n",
        "        return f\"An error occurred: {e}\"\n",
        "\n",
        "# Example usage\n",
        "file_path = 'example.txt'  # Replace with the path to your file\n",
        "target_word = 'python'  # Replace with the word you're looking for\n",
        "count = count_word_in_file(file_path, target_word)\n",
        "print(f\"The word '{target_word}' appears {count} times in the file.\")\n"
      ],
      "metadata": {
        "colab": {
          "base_uri": "https://localhost:8080/"
        },
        "id": "JXB_tFGsMaO_",
        "outputId": "10f39819-665d-4b1a-c96e-cd8642afc6e5"
      },
      "execution_count": 33,
      "outputs": [
        {
          "output_type": "stream",
          "name": "stdout",
          "text": [
            "The word 'python' appears The file does not exist. times in the file.\n"
          ]
        }
      ]
    },
    {
      "cell_type": "markdown",
      "source": [
        "22. How can you check if a file is empty before attempting to read its contents ?"
      ],
      "metadata": {
        "id": "zdyxWMHkMfm9"
      }
    },
    {
      "cell_type": "code",
      "source": [
        "import os\n",
        "\n",
        "file_path = 'your_file.txt'\n",
        "\n",
        "# Check if the file exists and is not empty\n",
        "if os.path.exists(file_path) and os.path.getsize(file_path) > 0:\n",
        "    with open(file_path, 'r') as file:\n",
        "        content = file.read()\n",
        "        print(content)\n",
        "else:\n",
        "    print(\"The file is empty or does not exist.\")\n"
      ],
      "metadata": {
        "colab": {
          "base_uri": "https://localhost:8080/"
        },
        "id": "77PSNRAiNEnO",
        "outputId": "4f779b93-e932-45de-de4d-0c7ebc972d47"
      },
      "execution_count": 34,
      "outputs": [
        {
          "output_type": "stream",
          "name": "stdout",
          "text": [
            "The file is empty or does not exist.\n"
          ]
        }
      ]
    },
    {
      "cell_type": "markdown",
      "source": [
        "23. Write a Python program that writes to a log file when an error occurs during file handling."
      ],
      "metadata": {
        "id": "RiJ3VVLnNJHO"
      }
    },
    {
      "cell_type": "code",
      "source": [
        "import logging\n",
        "\n",
        "# Set up logging configuration\n",
        "logging.basicConfig(\n",
        "    filename='file_errors.log',  # Log file location\n",
        "    level=logging.ERROR,         # Log only errors\n",
        "    format='%(asctime)s - %(levelname)s - %(message)s',  # Log format\n",
        ")\n",
        "\n",
        "def write_to_file(file_name, content):\n",
        "    try:\n",
        "        with open(file_name, 'w') as file:\n",
        "            file.write(content)\n",
        "        print(f\"Content successfully written to {file_name}\")\n",
        "    except Exception as e:\n",
        "        logging.error(f\"Error writing to file {file_name}: {e}\")\n",
        "\n",
        "def read_from_file(file_name):\n",
        "    try:\n",
        "        with open(file_name, 'r') as file:\n",
        "            content = file.read()\n",
        "        print(f\"Content read from {file_name}: {content}\")\n",
        "        return content\n",
        "    except FileNotFoundError:\n",
        "        logging.error(f\"File {file_name} not found.\")\n",
        "    except Exception as e:\n",
        "        logging.error(f\"Error reading from file {file_name}: {e}\")\n",
        "\n",
        "# Example usage\n",
        "write_to_file('example.txt', 'This is some test content.')\n",
        "read_from_file('example.txt')\n",
        "read_from_file('non_existing_file.txt')\n"
      ],
      "metadata": {
        "colab": {
          "base_uri": "https://localhost:8080/"
        },
        "id": "olVAfMhSOMrJ",
        "outputId": "a69e0e85-784e-44f4-e5ce-8f908c015e9b"
      },
      "execution_count": 36,
      "outputs": [
        {
          "output_type": "stream",
          "name": "stderr",
          "text": [
            "ERROR:root:File non_existing_file.txt not found.\n"
          ]
        },
        {
          "output_type": "stream",
          "name": "stdout",
          "text": [
            "Content successfully written to example.txt\n",
            "Content read from example.txt: This is some test content.\n"
          ]
        }
      ]
    }
  ]
}